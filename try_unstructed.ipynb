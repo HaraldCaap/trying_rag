{
 "cells": [
  {
   "cell_type": "code",
   "execution_count": 94,
   "metadata": {},
   "outputs": [],
   "source": [
    "from langchain_community.document_loaders import UnstructuredPDFLoader\n",
    "\n",
    "file_path = (\n",
    "    \"/Users/hcaap/Desktop/Kod/Siemens/Trying_rag/bilaga-A.pdf\"\n",
    ")\n",
    "\n",
    "loader = UnstructuredPDFLoader(file_path)\n",
    "data_1 = loader.load()"
   ]
  },
  {
   "cell_type": "code",
   "execution_count": 95,
   "metadata": {},
   "outputs": [],
   "source": [
    "file_path = (\n",
    "    \"/Users/hcaap/Desktop/Kod/Siemens/Trying_rag/Midsommar planering .pdf\"\n",
    ")\n",
    "\n",
    "loader = UnstructuredPDFLoader(file_path)\n",
    "data_2 = loader.load()"
   ]
  },
  {
   "cell_type": "code",
   "execution_count": 96,
   "metadata": {},
   "outputs": [],
   "source": [
    "from langchain_community.document_loaders import TextLoader\n",
    "from langchain_text_splitters import CharacterTextSplitter\n",
    "\n",
    "# Load the document, split it into chunks, embed each chunk and load it into the vector store.\n",
    "text_splitter = CharacterTextSplitter(chunk_size=1000, chunk_overlap=0)\n",
    "\n",
    "splitted_document_1 = text_splitter.split_documents(data_1)\n",
    "\n",
    "splitted_document_2= text_splitter.split_documents(data_2)"
   ]
  },
  {
   "cell_type": "code",
   "execution_count": 102,
   "metadata": {},
   "outputs": [
    {
     "name": "stdout",
     "output_type": "stream",
     "text": [
      "                                     ids embeddings  \\\n",
      "0   0086c05f-e304-4acc-ae8f-527a255ed837       None   \n",
      "1   029a31f3-f10e-48dd-85a2-d6692fbd6ba1       None   \n",
      "2   088f3e5f-3497-45b8-9982-8363884abcd2       None   \n",
      "3   0b9013c6-90b0-44c8-a377-c73eec303f13       None   \n",
      "4   276f4ed7-d46c-41cc-afc7-1cf46ab62e53       None   \n",
      "5   3be5277c-847d-44f4-b4fd-f56ab680a532       None   \n",
      "6   4404ffed-a056-423c-b5d8-36203c933987       None   \n",
      "7   682fdf73-0c6a-45be-b847-9e46a728e92a       None   \n",
      "8   6f6bf3e8-1799-47cf-8555-a3ecedd361e5       None   \n",
      "9   7798fc9a-06f9-4fe5-96a6-1d6918234bac       None   \n",
      "10  89591b22-c2f0-450a-bcda-826b0ab43d10       None   \n",
      "11  8bd67fbd-f7cb-4c3c-9862-1ffffe2ef046       None   \n",
      "12  95900d31-ed3c-4fa6-ab98-ea2b898b12fb       None   \n",
      "13  ade2e022-f8d0-42d3-b795-3ce6728c0ba5       None   \n",
      "14  c078d525-ecc7-45c6-8e12-8fd50f306256       None   \n",
      "15  c17aad39-bbd5-49fb-9daa-c4d97fd2f03d       None   \n",
      "16  c48779a0-14ec-44f1-97d3-eed4f9e642f0       None   \n",
      "17  c985b5fd-e9f5-404a-be74-78a2f7d88e8c       None   \n",
      "18  d00e31b5-8bc5-4518-b529-7fce10a2c024       None   \n",
      "19  e6ff5f56-6a4e-4189-9b4a-784314676374       None   \n",
      "20  ebcfe119-16e2-4ab2-96ba-774c68a8ee17       None   \n",
      "\n",
      "                                            metadatas  \\\n",
      "0   {'source': '/Users/hcaap/Desktop/Kod/Siemens/T...   \n",
      "1   {'source': '/Users/hcaap/Desktop/Kod/Siemens/T...   \n",
      "2   {'source': '/Users/hcaap/Desktop/Kod/Siemens/T...   \n",
      "3   {'source': '/Users/hcaap/Desktop/Kod/Siemens/T...   \n",
      "4   {'source': '/Users/hcaap/Desktop/Kod/Siemens/T...   \n",
      "5   {'source': '/Users/hcaap/Desktop/Kod/Siemens/T...   \n",
      "6   {'source': '/Users/hcaap/Desktop/Kod/Siemens/T...   \n",
      "7   {'source': '/Users/hcaap/Desktop/Kod/Siemens/T...   \n",
      "8   {'source': '/Users/hcaap/Desktop/Kod/Siemens/T...   \n",
      "9   {'source': '/Users/hcaap/Desktop/Kod/Siemens/T...   \n",
      "10  {'source': '/Users/hcaap/Desktop/Kod/Siemens/T...   \n",
      "11  {'source': '/Users/hcaap/Desktop/Kod/Siemens/T...   \n",
      "12  {'source': '/Users/hcaap/Desktop/Kod/Siemens/T...   \n",
      "13  {'source': '/Users/hcaap/Desktop/Kod/Siemens/T...   \n",
      "14  {'source': '/Users/hcaap/Desktop/Kod/Siemens/T...   \n",
      "15  {'source': '/Users/hcaap/Desktop/Kod/Siemens/T...   \n",
      "16  {'source': '/Users/hcaap/Desktop/Kod/Siemens/T...   \n",
      "17  {'source': '/Users/hcaap/Desktop/Kod/Siemens/T...   \n",
      "18  {'source': '/Users/hcaap/Desktop/Kod/Siemens/T...   \n",
      "19  {'source': '/Users/hcaap/Desktop/Kod/Siemens/T...   \n",
      "20  {'source': '/Users/hcaap/Desktop/Kod/Siemens/T...   \n",
      "\n",
      "                                            documents  uris  data   included  \n",
      "0   Alla program returnerar ett heltal till Bash! ...  None  None  metadatas  \n",
      "1   For att borja behéver du ett fonster som ar en...  None  None  documents  \n",
      "2   Alla dokument i en dator, och Aven i telefoner...  None  None       None  \n",
      "3   Ga till denna nya katalog och skapa en ny kata...  None  None       None  \n",
      "4   ‘For ett vara mer exakt, alla program returner...  None  None       None  \n",
      "5   lakan. naslakan ach A@rnsott\\n\\nLakan, paslaka...  None  None       None  \n",
      "6   do echo testing $x y=$(basename $x .in) scala ...  None  None       None  \n",
      "7   Programmet kommer att fraga efter ett hemligt ...  None  None       None  \n",
      "8   Antag att du vill gora cd till Downloads fran ...  None  None       None  \n",
      "9   Slutligen, for att se vilka kommandon ett skri...  None  None       None  \n",
      "10  Bash kommer nu att anvanda din Desktopskatalog...  None  None       None  \n",
      "11  Bilaga A\\n\\nUNIX-terminalen\\n\\nI detta appendi...  None  None       None  \n",
      "12  Detta illustrerar vad vi har lart oss hittills...  None  None       None  \n",
      "13  Du bor da fa utdata i form av /home/yourname p...  None  None       None  \n",
      "14  Forsta gangen du loggar in pa (eller kopierar ...  None  None       None  \n",
      "15  Midsommar planering\\n\\nmandag 11 oktober 2021 ...  None  None       None  \n",
      "16  For att kopiera en fil anvander man kommandot ...  None  None       None  \n",
      "17  Secure Shell eller SSH ar ett antal kommandon ...  None  None       None  \n",
      "18  katalog som i det har fallet maste finnas i di...  None  None       None  \n",
      "19  scala graph\\n\\nDet ar ofta battre att anvanda ...  None  None       None  \n",
      "20  Man kan handla pa Ica i nagot som heter Ostra ...  None  None       None  \n"
     ]
    }
   ],
   "source": [
    "from langchain_chroma import Chroma\n",
    "from langchain_community.embeddings import OllamaEmbeddings\n",
    "\n",
    "ollama_emb = OllamaEmbeddings(\n",
    "    model=\"mxbai-embed-large\",\n",
    ")\n",
    "\n",
    "db=Chroma(\"DATA\", ollama_emb)\n",
    "\n",
    "db.add_documents(splitted_document_1)\n",
    "\n",
    "db.add_documents(splitted_document_2)\n",
    "\n",
    "import pandas as pd\n",
    "\n",
    "# Get the data from the Chroma database\n",
    "data = db.get()\n",
    "\n",
    "# Find the maximum length of the lists in the dictionary\n",
    "max_length = max(len(lst) for lst in data.values() if lst is not None)\n",
    "\n",
    "# Pad all lists to the maximum length\n",
    "for key, lst in data.items():\n",
    "    if lst is None:\n",
    "        data[key] = [None] * max_length\n",
    "    elif len(lst) < max_length:\n",
    "        data[key] = lst + [None] * (max_length - len(lst))\n",
    "\n",
    "# Create a DataFrame from the dictionary\n",
    "df = pd.DataFrame(data)\n",
    "\n",
    "df.head()\n",
    "# Print the DataFrame\n",
    "\n",
    "\n",
    "#df.to_csv('new_output', index=False)\n",
    "\n",
    "\n",
    "\n"
   ]
  },
  {
   "cell_type": "code",
   "execution_count": null,
   "metadata": {},
   "outputs": [],
   "source": [
    "df.head()"
   ]
  },
  {
   "cell_type": "code",
   "execution_count": 101,
   "metadata": {},
   "outputs": [
    {
     "ename": "ValueError",
     "evalue": "Chroma collection not initialized. Use `reset_collection` to re-create and initialize the collection. ",
     "output_type": "error",
     "traceback": [
      "\u001b[0;31m---------------------------------------------------------------------------\u001b[0m",
      "\u001b[0;31mValueError\u001b[0m                                Traceback (most recent call last)",
      "Cell \u001b[0;32mIn[101], line 3\u001b[0m\n\u001b[1;32m      1\u001b[0m db\u001b[38;5;241m.\u001b[39mdelete_collection()\n\u001b[0;32m----> 3\u001b[0m db\u001b[38;5;241m.\u001b[39mget()\n",
      "File \u001b[0;32m~/anaconda3/lib/python3.11/site-packages/langchain_chroma/vectorstores.py:762\u001b[0m, in \u001b[0;36mChroma.get\u001b[0;34m(self, ids, where, limit, offset, where_document, include)\u001b[0m\n\u001b[1;32m    759\u001b[0m \u001b[38;5;28;01mif\u001b[39;00m include \u001b[38;5;129;01mis\u001b[39;00m \u001b[38;5;129;01mnot\u001b[39;00m \u001b[38;5;28;01mNone\u001b[39;00m:\n\u001b[1;32m    760\u001b[0m     kwargs[\u001b[38;5;124m\"\u001b[39m\u001b[38;5;124minclude\u001b[39m\u001b[38;5;124m\"\u001b[39m] \u001b[38;5;241m=\u001b[39m include\n\u001b[0;32m--> 762\u001b[0m \u001b[38;5;28;01mreturn\u001b[39;00m \u001b[38;5;28mself\u001b[39m\u001b[38;5;241m.\u001b[39m_collection\u001b[38;5;241m.\u001b[39mget(\u001b[38;5;241m*\u001b[39m\u001b[38;5;241m*\u001b[39mkwargs)\n",
      "File \u001b[0;32m~/anaconda3/lib/python3.11/site-packages/langchain_chroma/vectorstores.py:221\u001b[0m, in \u001b[0;36mChroma._collection\u001b[0;34m(self)\u001b[0m\n\u001b[1;32m    219\u001b[0m \u001b[38;5;250m\u001b[39m\u001b[38;5;124;03m\"\"\"Returns the underlying Chroma collection or throws an exception.\"\"\"\u001b[39;00m\n\u001b[1;32m    220\u001b[0m \u001b[38;5;28;01mif\u001b[39;00m \u001b[38;5;28mself\u001b[39m\u001b[38;5;241m.\u001b[39m_chroma_collection \u001b[38;5;129;01mis\u001b[39;00m \u001b[38;5;28;01mNone\u001b[39;00m:\n\u001b[0;32m--> 221\u001b[0m     \u001b[38;5;28;01mraise\u001b[39;00m \u001b[38;5;167;01mValueError\u001b[39;00m(\n\u001b[1;32m    222\u001b[0m         \u001b[38;5;124m\"\u001b[39m\u001b[38;5;124mChroma collection not initialized. \u001b[39m\u001b[38;5;124m\"\u001b[39m\n\u001b[1;32m    223\u001b[0m         \u001b[38;5;124m\"\u001b[39m\u001b[38;5;124mUse `reset_collection` to re-create and initialize the collection. \u001b[39m\u001b[38;5;124m\"\u001b[39m\n\u001b[1;32m    224\u001b[0m     )\n\u001b[1;32m    225\u001b[0m \u001b[38;5;28;01mreturn\u001b[39;00m \u001b[38;5;28mself\u001b[39m\u001b[38;5;241m.\u001b[39m_chroma_collection\n",
      "\u001b[0;31mValueError\u001b[0m: Chroma collection not initialized. Use `reset_collection` to re-create and initialize the collection. "
     ]
    }
   ],
   "source": [
    "db.delete_collection()\n",
    "\n",
    "db.get()"
   ]
  },
  {
   "cell_type": "code",
   "execution_count": 61,
   "metadata": {},
   "outputs": [
    {
     "data": {
      "text/plain": [
       "[(Document(page_content='De formatton gutllke rt OqtO,= Oz\\n\\ni On= O¢+L 2 (2)8 (2) wees AL AL AL alg 4 AL 2eY 2 Seb N) = sor) Gep Ber ge 32\\n\\na5r 267 ~ ger eT\\n\\n1c , (3)&C4) gen\\n\\nto, rt a\\n\\nd= den +e 4 2k Pus /_ 4 ey t). 3h v BA\" BET * euey 3e5 L = 22 ( Ly tay try oy deeb BLE Ls 8 28\\n\\nR” 88 ge 67 oy ESE\\n\\nC2\\n\\n(2) & C4)\\n\\n@\\n\\nPoy ° b Wy eo 6 ° {a pe. | : |\\n\\n@ -P EL a) Semviled {er del @ ges aenow Iepelbion. Tals det obelente momentet Ad del @ och ¢hell upp (roviktssom baad: so f : 7 fp 4! -TytFp=B=0 ‘ fc eE- tl ( fUTELELY) +) w: -A& BE Pal t Pleo > > “” Fa PL ; : Fy = Sp-A o> Fs ~ # + $2 ark re hen frmuibetewttryck fav del @ cekse etoableras,\\' ; TR. , PNe- Wye e & ys Wye hoe af n Oo AY: AH-AMgee A,eA\\n\\nuo =Fys-tpy A NTA aby\\n\\nHed (1) och (2) ce alle gsnillelovheter ulteyelkbe i Hoch Be Ett deformetions —\\n\\nvillkeer ger den extre elevetlonen,\\n\\nme te\\n\\nae\\n\\n“) Eulerfell 4 hear hanst knBekleref fh\\n\\nbade, ‘ender & ~ aft “er z ? Y i3nto3 4 4) oe 4It™ 200x 40 rl 3) LNG M\\n\\nQr ee', metadata={'source': '/Users/hcaap/Desktop/Kod/Siemens/Trying_rag/hållflösningar.pdf'}),\n",
       "  253.6839141845703),\n",
       " (Document(page_content='‘ . \\' vinkler ik ayrle hun Even whan tog fer adf relatere hyuleng vrid nln ys\\n\\nf dill vevendra: Gong = ¥, Np\\n\\n(4)\\n\\n~ eet 3% a an TS Sraulkeksvillle cs Ag. + fe. — Au 3 Ay = 269 @®)\\n\\nng Ay We an _ Ag bine Ay LM _. Defirmablonsvillor Fyga = Heats Tes” eke o> feta. Hote @) Kap Kep : (Ct) coh C&) gers , ae 4 fh Keo Me) Ag Flo om io lis np Kap vo Ye Ss My = Keo Mp Ay = Bev. SB Hy ho ae ge Ae Keo\"? Age che a | OY Hag + Ye Kew cs) oR = te Kep. itt ne = Mys ‘ = Ay K “na, + \"Oh fe RAB Mp ny + Uae Le : 4 { _ oo i wat = 383445 ua sof Kay = (so ys Car . Wp ot sun) 5s = B0696 mm ABS 2 aun) 2.2 : . rr 4 ow /Bs)t 24 mnt ven = (eye ECDs 448 cy te [den B_ 1 (85)82 8418. Hp nn wer E82) FE) inn der \\\\C Me Yt _ Y ter = E( = a(x) = 643572 0\" _. fdr )\\\\3 1 /e\\\\3z = 3 Wee 5 (F)* t (2) = 44 S43,.4 im CO . Bed (3) eek CH) ges! My = 423.382 Hn . (Ss) YW, = 90 “Ay = 8SE.%70 Her Ny =4d \\\\ Ne = aD a Foru ridarn ene _ Np . 4 . (4) ) \"0 ‘fp = fee tay le fe Mer FE Tew ,', metadata={'source': '/Users/hcaap/Desktop/Kod/Siemens/Trying_rag/hållflösningar.pdf'}),\n",
       "  257.0580139160156),\n",
       " (Document(page_content='Leb 3 Be Sht8 4 = o.tteo > 11.9% we Sioned a a ‘2\\n\\né= qe\\n\\nc) Der elestishe delen ev Wey ningen — 6.28% enligt aj 7 fteratr. Diws CHAE), ae 11.80% - 0.282% = 14,5L%\\n\\nDele ger tréidlenaden L= 4,445.4 = A152 4\\n\\nWilket acre mittpunkts las et de W14t5ae t= $28 63 vam neded\\n\\nDeu vertifecla Rte f odringen Ad = S00~-493,68 =6, 26m ——— VR\\n\\nJeaviltsekvabteat! NERY RTS eN RETO A\\n\\nPh Oren tA Tay) ~B =o\\n\\nb) Deb stela oleet aee at roe och cylinder megte fel jes ety deformatlanert\\n\\nBose = Gen) = as th Ese =f Eax! a oro, F en!\\n\\na) €) sé nae deLormationen ar elegtisk } bade rer och cylinder yer cae\\n\\n\\\\ \\\\\\n\\nVay) = E ey 5 sr =\\n\\n\\\\ Deus.\\n\\nCor\\n\\naH\\n\\n> (2) => Lies = Gl\\n\\ncul indem pleshleeras Peret ‘\\n\\n4) Aed Ct) ech C3) ges sembandets\\n\\nPor ACose B= PUA — (vid inibiel plastieerng t eyhindern)\\n\\nVe 1 Js = LExn| =f Tal gS\\n\\nwid i tiell plesticeriiy ; cylindern afller:\\n\\nCray = FE Erer\\n\\nTara BOs\\n\\nwd Senonplasticering geller Cyar = Tey) 50s\\n\\n“) & (HACI) ger: US\\n\\n2p= ACTs+ 0%) = 2GA', metadata={'source': '/Users/hcaap/Desktop/Kod/Siemens/Trying_rag/hållflösningar.pdf'}),\n",
       "  259.2098083496094),\n",
       " (Document(page_content='. . : ; , ; Ekvetvew (6.48) > KTH:s forwelsan ling yer: Ay= 20, le _ = a ] med CL) oah CQ) ag\\n\\nEnliat uppyi ft 5 Biler L2AS Ay Lvs, 3 > +3 \"s => A al ATL YS 5 Lap be ata) - | poset 3 am , > ree ~ 23 (2- a3 3 , b wie aT ) > sg = od & = 0, B36 5064 ¢ ————— ee, D) yb) Alncad gfller ¥L= Pr Foruriduinnen aid plasticering acs de aut ¢ at GQ Ys ¢ Med vesultatet (3) ate CF) vw: . = Bs te sh Pe L SHeaoee ma ¢ . 4 ©) Den resteran de FErveldniagen efter avlagt Ening qes au res for. epel y f pray = Yo Lelia g om Be Be (a 3e9g09- 0:2 = 0154207 Be BL ¢ 5 Vea Oa 1 sen aneeedl ————E } (6) (5) . | 1 d) Reetsh jus Penni ngan uid olfke vadter - Lardelar si ew lta ‘ Arve Vid. Pee a eRe 2- Lee, THOR Vir ets gfest o ts “2.8%, 2 vid reo yest =o\\n\\nvid fullplasticering 5 gales r\\n\\n“f _o ahr\\n\\nws', metadata={'source': '/Users/hcaap/Desktop/Kod/Siemens/Trying_rag/hållflösningar.pdf'}),\n",
       "  259.8457336425781),\n",
       " (Document(page_content='4.4 =— Giuét: Le 6n d=AGnm . 4 N= 100 kM cH ge gun 0) Normal spears. . : . ely. (1.5) sid. at gert cat > N _ 2M. . Oe aA melt #L* ; @) 7 . 4 yy ay: oF +400 xL0 nw » ceca): ore pe RN Es . x __fartengning a c) Ely. C44) std. 8 gers CF cersprungalerad ¢ >, i = Prengany 3 : - ‘ Exo, d) GYR): = 0 t%e cH)\\n\\n}\\n\\n>) Hoolees las, enle elev CaA.4t) sil 49: Gs ee\\n\\n\\\\ t ROURKE” 2 ao GPa\\n\\n; ; os. Jy) C2), BAC) gers Ee To cor\\n\\n\\' Antanende! a ghia A kommer att kowp viagereS _, ; Lt (dvs acs nega tiv nonnal Layuing och ~ sp eernd Sees sing B emer olf Eafe (dvs ges positiv\\n\\nmoval bajning oth\\n\\n~ spanning).\\n\\nLeos\\n\\na\\n\\nan ‘> . : . ; ater L ane deformeanen , Enllgt Pyth sats aes long derae\\n\\nBoda shxngy cerns or isany\\n\\n“ye efter deformati oun av;\\n\\n‘ La = Chsine cu) 4 (Leos) Ltsintem 2absinelt wt eos ee = Ltagalsinebe® a be = a t_ Zubsinad yuk , ct) ty Le = CLsinet +0)\" + Cheosit.)*= Leta %ea fab dale uwre Lease = ; (2)\\n\\nay 2 LétQubsindt a” => Lam Vite Zabsineee\\n\\nHed thy, Cat) sid! 8 ger C4) och Gy', metadata={'source': '/Users/hcaap/Desktop/Kod/Siemens/Trying_rag/hållflösningar.pdf'}),\n",
       "  260.6318054199219),\n",
       " (Document(page_content='e) re wu - Beskviv Selactnmgen wha. en stegfurketion: 4 ERERY) Oo fer xX <b } bo (x) = = afe)e- & U(K-L) L 4 g => 4 L | ~T fee XL 7 Utnyttys (2); electi ole liayens ekvetion ooh Inbeavere. fryre geager: EIw™ = gate) =- 2 u¢re L) e; Erw™ = ~ PCL) U (K-L)EA z eru®. - 2 Ky (x-L)+Ax +B L pa F e tei)? ETws - = z VOL) sage 3s te Q tek xh : ery s- 8452 viet eae “teste cet ce Tntearaklonskonstanterne A,B,C och Di (2) bestimes mehia. reudvillkeren C3), wley=0, war) =o, wlodeo, wlar)=o C3 Delta agers wt (ede C =90 wl{o)s D £0 =¢ ye - 8 Hay ty, =o o> ALL* 2B we Cae) = Le ry BL eo = yx - Qu aoa WF bal = w (2h) Egy Ang +B nom A Zhe AB exo A (ar-#e) = 3 Deo QL => QL ss b= ae om AL RAL + ABE OE <a a > Q 4 aL QL cae AL A _— ah SAL AL “ey “hos oy - Seman si Hning av (2) weh CH) ger det ho m ple Hees ute eyelee & {sr balkens vt bowing: es 2 (ee Ge-by4 Q = 2 3 ETw(x) 2 Vik-L )r 3 ze -~ grax > > wt)= - wey HCK-L YY OCk-L) + aa 52 | => A . ial Se: 1)\\'v(E-1) +3 (+ (\"| | ; . .¢ -\\n\\nFORTS, BA AY. SIDA. .', metadata={'source': '/Users/hcaap/Desktop/Kod/Siemens/Trying_rag/hållflösningar.pdf'}),\n",
       "  270.69757080078125),\n",
       " (Document(page_content=\") Bowe ee £) C2) ger Ege “ee. = 48 ADO aes . Ses) © 4\\n\\n20%\\n\\nEay) = Rag, =\\n\\ni)\\n\\nh En Hat (@) bestir cilinderdijmingen ov fljande elestiaka resp, plasticeradc kompoues.\\n\\nel\\n\\né Us\\n\\nal\\n\\n| T = Sex \\\\\\n\\neat = Wid ev lasdying, eller «\\n\\nus\\n\\n,r>S\\n\\nE 3\\n\\n273\\n\\nin) =e”\\n\\nme) Varese eon 1 deformeLions — & cyl FRE Sr te Villleer chy sabres Grr ole bn oom. > 2 tr. OS. Veneys bh ben qlasbisle vee = nes ; E : ~ t Saylogye fan) = Weyl . 0% 4, Veyl yey cyl = ylt “ES Ete => 30Te 20° = a. = > 3 vec = Ug => {er = 30s “> Error = Sex! =- 30s Een! =\\n\\ncf\\n\\nCA)\\n\\n@)\\n\\n<9) cs)\\n\\nC4)\\n\\n4)\\n\\n/ f\\n\\n<3)\\n\\nr C2)\\n\\ni Us\\n\\nce ce)\\n\\na Ge .\\n\\nGE\\n\\nme\\n\\nae) .Steblera \\\\envikts - och deformnat dongsam band fer struktiuren\\n\\n: aa q SEE Enea 4 2 \\\\ nent y S L ~ : . re 53.2 PALE ') he z Yewitls-| f! Of+ (+ u, + = so Y gemband ou cm ‘ 3h ~Ser$y yep! Oger raat Vy SaFo\\n\\n. def rorbiy a nea t - | >) ** tr Ta Fg = 8C09-dy) Jee adya Bdy > Ext Ey 38e\\n\\n“ft\", metadata={'source': '/Users/hcaap/Desktop/Kod/Siemens/Trying_rag/hållflösningar.pdf'}),\n",
       "  273.2054138183594),\n",
       " (Document(page_content=\"Lignren ) otk. dye aleyergher appsesy,\\n\\ncl R10 met z =A kN \\\\ mt Efe _ 4P _ ae 2) 900% ng 3% ABA Skies pEnn ingen ars ww av! Ze yaaa, > oe * Fe Caonal) 6.3% AES = Gooch! Le — % MBw Ct) ' d 20.4% . (x NX. . es ve th C2) a) Rnapannepornlerns. ges ov ey. Ct.L0) qt sid. 2% my = pa , Gyo ; cab TF x Le ned Ct) oth CA)! Ly Tech Cup wbasr tue nerenclep Sin rn ger + Enh Tresee ¥ ler m max .CWanTel, 102-1, )oe-%)) Sos R RX =P me P. P > x man ? Fh rAN Ep) « £95 woe co een vo} tio” 04 ; h> Ee A AE oan (2): of + 300x20 —_ ; ‘. c) velj h =Amm vilkeb med C2) ech (3) oa 6 _ PRL pd ee | = ° OY heh eps BOD ALa - 6 ae sek. fibers sages 2947 dew 4xt0 +6. 4 = a ele at La BL _\\n\\n. B fx &,A,24 j\\\\ bs , ee\\n\\nSamui kd aor: { Nyg = F . (1)\\n\\nNae. =O\\n\\nDevs, sting Re deformeras Inte\\n\\ntL pe Frile kenuckp on let B: , - AB gdh Sa\\n\\n1\\n\\nt\\n\\n{\\n\\nt l, 1 ° ;\\n\\n. . . enterne: Superpe Shen ere ferskeubainas kompon\\n\\ndhe ae ¥\\n\\nBe\\n\\nyen dae Sexe * a v\\n\\n= 0, cos & + Jy sind = O\\n\\n(A) & C2) act how Fb\\n\\nEx\\n\\nSInd =\\n\\n(2\", metadata={'source': '/Users/hcaap/Desktop/Kod/Siemens/Trying_rag/hållflösningar.pdf'}),\n",
       "  273.4535827636719),\n",
       " (Document(page_content='ao * . me PH 0,0 30k red = 4,48 Ke = 2 R42,35% 90% 4% yo a Ke 24021,02¢407 met\\n\\nOvEr— VESP wunderdel Seper av\\n\\nFei Laas) oth hemdee rs\\n\\nLett Lite : Givebt Lom G3) on L ; quee GPx os RAL oth d= YOmnm $ av Wy = 1.257 kM PAL, % @ O6L TTT Jravikbssamband t Ay tly = Ay . (a) Deformationsvillkor? = Yo és)\\n\\nAg 64k\\n\\nae (ee BE) é4)\\n\\n~ Mg 60,64 w= Aa 6h\\n\\nForuridnlnassent and! %, -\\n\\nak (3) & (4) ger\" O4N, =O.6Ag > Ay = FAQ . cs) = = 8 Bay = 480. (2) kOS) gers | Mtthardtv | (Ae gaz Mg AY = FSOM 6) = =>). e : Rig = BAe 5 a 2 : at azAv Ag > oe tv = 506 Noy\\n\\n: Shjov 87 Raningen ges av? Einar = . Med ce) gee de:\\n\\n%= = 50,68 ABA . EC20n35° 3) 8 ——— (s) - fe 500 _ 227 Wy” Ro Re BU) Aba “e C2Oa16 >)\\n\\n— Med (4) och (6) ges! (e2%- | ee YS0xL0° +0. cee ~ 0.0843 vad = SE\\n\\n( a Us 82x10 Mexot\\n\\naaee en eer\\n\\n“N y\\n\\nMy\\n\\nng\\n\\ni te tayky as Feileag, hjelen. For att velekera momentey EM verendre kan lena Jen w yk js\\n\\nlé Jemvill selevetionen stelle upp! Ae _ Aa Vg ha, (ngs Fer) dz Zr 53 ——|\\n\\n, Beg (44 = Fern)', metadata={'source': '/Users/hcaap/Desktop/Kod/Siemens/Trying_rag/hållflösningar.pdf'}),\n",
       "  273.7361145019531),\n",
       " (Document(page_content='b) 4 z i | = ) a Se + * a nn ) o Elementar fall 4 sid 126 att: ‘ _ ee 4.34 . yet Bh) an l-#+rF] i ell + \\' ») : GeET 13 7 oP 2 , s> SaJqrdg= oe te $) ge = AS ~ 4% en dt 6er ers] ~ \"Ser c) \\\\ Q y \\' Ea RITA AY + fe=peo L \\\\r * beg ~.}e% - Ly5 Ly* 48 az 2) Qe Elementen fall B sid. £26 geri I= 2G) (s) + af ‘g 7 Be er Cs) xcey eG)\\n\\nElementdarfall 3 sid. £26 dillsamnens wed (3) ger\\n\\nos 2QL3 3 . 1° g4er 3 3 g > - ~ @be ~H Qe. At Re yt a8 > Oedi-des Ger” we EF * Ged ET C4)\\n\\n&@ 172 87\\n\\n——— MSDE wi sar ate sysvemen ar er sry CLANS Y CECETAMT . enon SUBEY —\\n\\nponering av clementarfallen tech Spe od, 187 kan eh deformation sulle r akep\\n\\na . i. | pabdey stills Lid Deformations villkers OO gegen 8Rs det 7 BL: ae a 7S cL 4 L @ y_ SF aus 2 5 aut we [z ao An 3e4 er °8 eT + 13 =d, te © QV ng & Lbbdbydd vd desk else) a a eer 48 EF ets Ey a. , be ~ tL oe, he , . Frilias, belken coh eteblera \\\\eenuiletssomband :', metadata={'source': '/Users/hcaap/Desktop/Kod/Siemens/Trying_rag/hållflösningar.pdf'}),\n",
       "  274.8564758300781),\n",
       " (Document(page_content='0 ORE a age ger SBMRER AE i ) alleen humels oe futer fall ai . p= et. iia tig gt k qe * AX (08000 | v gs\" + yoo 2 (e “o£ Dare = B1P%2N (4) . + Bfterson Senge Skall kh noll gull en : , yo ex <= +@aT xo o> Oe EAT => P= CARAT Ctetkend te pgs koupress ion) (2 \\' (t)4C2) geri ATS 21858 Be aA ° ; = ! = mm , ~é ; BAK (296 090 + SS\" cayeo” + Hoban’ ACESS)» 03006 ©) 7 = 8.256 °C\\n\\n——\\n\\na', metadata={'source': '/Users/hcaap/Desktop/Kod/Siemens/Trying_rag/hållflösningar.pdf'}),\n",
       "  280.9440612792969),\n",
       " (Document(page_content=', @ Elementarfall 2 ach 8 of aid, 426 gtr! ars p38 OF 3 _ 2b ‘ ~ ar ee aAyeTr ’ Js tex & 2 O° eel ? Os* eet +) Deformatitonsy}iiker! _ Zz - aw Be Sy Jas de-ds > To\" Ser” Ga 4) TD balktnden shal} lnk ningen @ vere voll. Doug 2 2 : . b= 6,-64 = Ser Bee ft D 27 8 et gap 9 = P= FQ x) ) Samman BE Hn ina av (Ct) veh oe ager fin der kone tanten let fa) Que @8 4 R 44EL a = a. at = ca Sho GEL PET a L (- a) oe 4 Lo Yee Bt Iza) sustemet oak eteablera deformations sanband,s ‘ @ a, 4 pe sid, 126 ace Utbayningen: Af uy, _ _FLS L, &F be : On? Ger® \"Ser . ir a7 oa “ ») us| @ d,= GAO G-r)tS 6Ex Ser\\n\\n2)\\n\\né8)\\n\\nOCR GUSOLEFA C&por MESON. wines\\n\\n4 3 sid. 4128 aor\\n\\nm Leas, agproret\\n\\nPa lf _Erenen Serf —4 ote (-e Ler | Spe ge (-e8 Se) z oe Bu a= Ps Loser” ger ; Le Ua Defornekionsvilllors dp =o, fr (-eiese) =P > Bs gris «) ea\\n\\nOn den maximala wt ben ia g om shall she under Futste @C(XL)Y=0 galls “Divs, BL, 5 ay! OO Lynas ¢f-¢t1- On (61) = Jeg CE canes) FLe on pit 2 *> Op Op =O Be Soe Op GL) = Fb 4er ET 2eE5', metadata={'source': '/Users/hcaap/Desktop/Kod/Siemens/Trying_rag/hållflösningar.pdf'}),\n",
       "  281.54364013671875),\n",
       " (Document(page_content='Basler v belastyrnqen meha, eu steg fun kbion .\\n\\n» Q T dalle cmersestdiamerce dud funldt Ay L Th bub L a, - cere meres f ktioner: 7 L we 4@)= a fer Lexea . a L o fer x>ab > g@=-FVlx-L) + 2 (x-ar) (\\n\\nPeagye “) \\' elesticks linjens elevation ooh inbegrere fare ginger:\\n\\nEI w™ = gi) = - But) + @uce-ary © - _ . ery! = - pk L)UC¥-L)+ 2 Ce aLyudear) +4 ; ra : exrwts — 2 &-L) . x2 ) rw Le U(x L)+ @ Geaty LU Ue RAL) +AR +B IT. @ (x-L}? x Ew = BM ole Lye Say G. AL )t Ae eet ) a Xeb ) Erw ¢ ot) Ulx-L) + & (Xx~ =) (eat) ta Lea + Cat (e Tategretion shou than berne, A; Bee ech Di} ¢2} bestiws mbar randvillleoren C3)\" Wlo)=o , w%(o) =O, w@ld=o, wW7C3_)z6 a Dele er; Q — 3 sar= S(t- #4) w(o)= Deo ; . wi(o)s BRe : 30 > yy? a > BO FAL + GE fae w™(L)= g - + = > +3AL =O set * aH ) wiaty< 2 ® 46t\\' ni =o | = ‘) nl ) vee > 3 \\' ce Bat 1 a ) Dro\\n\\nSemmansettning av (Yoeh (4) ace det koma bette utbrweket fr helkens ut baying:\\n\\nQ ; 3 EI w (x)= | Gan) *oGea) - we-Lyty (x-L) + ao, © - su%« | >\\n\\nA4ET', metadata={'source': '/Users/hcaap/Desktop/Kod/Siemens/Trying_rag/hållflösningar.pdf'}),\n",
       "  282.13421630859375),\n",
       " (Document(page_content='Peace x= 8h as~ t£ar Anak zats.sen [OE Me en eh qu BS ego} oe QL BE “480 anbSem [os fShar £5 < 180 w= aL Pe Ler <8 r Q Q<6L9L.F2 Q< 536 A\\n\\nSN\\n\\nom”, feo = 23 X20\" B sap-3RUr lay ao > SFg a\\n\\nsterste wegenty wn Ne\\n\\nNa\\n\\n. - [ae | ARs X(4G29) = pe aseay-6 eX = ae Fe Zag sen Pie tHen* . 5 za “le Berm Ban Enligt tek. = AsB Sid. 233 ee areatraylebsmomented av: 3 7 . 3: 3 Le-27 2. m= + Se Qs) 4 12-2) 6 or an 496 on\" Beeston mom enk— coeh tute torftsyer | abion ene balken? O<x SSESBES 48 go 4s gs 3B ys Q- GRxtTs0 me THQ a? > 3 SQ y* , faa i GB, 88S -Tetheo eHeg (Gr ef Ko gpk = ‘ oe . Set 4h Fis @ (Fi es) BL <ACALI Ae ty tFgtT-SA=0 ms T= 5Q-6Q = Qh ; FQ — t 5 3 . Wi Cee, 4 x0: Seat -s. Be FAK +H HOP 7.) Tre te As CHL“ OQ bax , Te) Ak) a Zh Med, ny maxrmom en bed en ey\\n\\né\\n\\nif rer\\n\\nbe ou ena,\\n\\n=p all&s?\\n\\nQ 45368. “eH\\n\\n()\\n\\né)\\n\\nCH)\\n\\nnena\\n\\nee\\n\\n<= RB ie)\\n\\nTri ltaa ech stall upp JRrvietssamboned\\n\\na fh thea 42\\n\\nFf ise r ]\\n\\n@h- 8\\n\\naN 8\\n\\neos Bx RGth)— TP\\n\\nsf op\\n\\nyh Fe 2 (axee yo', metadata={'source': '/Users/hcaap/Desktop/Kod/Siemens/Trying_rag/hållflösningar.pdf'}),\n",
       "  284.6693115234375),\n",
       " (Document(page_content=\"y 1. ae } pivis. halve hoxrenttek =r aeabicerat tO — ftnyep (4----— 2 ax (tt C| oe A - ue 3 e) Sparningsin ding! Ayn Ez = ~ = z= , re a > ; er re 2. _ fd 2 (3) & ct) geri AUy =~ Tat zp oabh = PETs — . a4 ‘ = Bed zoe Aes AGx =- os , med ze aes AT Res tspraningena aes ae ow! . 2a, 4 . . a2 3 — zagy Grest ® TRatiptes £. +A, = OT, = Us =- 37s ; __ 8 zede Tyrese = GY; FAT, = Us -24¢, = . = -=—¢ [ionned » Veatlplask. FAT 8 ag Ts > ag TS\\n\\nErsath den exeenty sles tres lure then vo eed, et moment,\\n\\ng iy iN x th t f : bh i\\n\\nch ae 4 P\\n\\n~b ce 8 x\\n\\ny »? or § _ 4 z h } ~ y ZI es : 7 ts\\n\\nS2 lenge elasticited keen fsrutsrkes Aes narmelspEnningen av!\\n\\nh . VOM. z RA _ t_ (1+ = AE = Aw Se Tear ae * tw ) kh c Flytlasten bir faljdettfigen: Bs = abh Te , ¢ ee De burrsnittel ar qenomplesbicerat aller feljande. Situation! o's A 7 > Be Kraft — ech rap vasmh Deaville ger! bax —piab(h-x) Ts + bax Ts + BRO C a a on sox Sho 2x18 go Rhee og os, z we TAK tere he Reh te? = z =o =>\\n\\na> detiigh gree se A aeh e Fhtso &\", metadata={'source': '/Users/hcaap/Desktop/Kod/Siemens/Trying_rag/hållflösningar.pdf'}),\n",
       "  284.8531799316406),\n",
       " (Document(page_content='THileben Spzan TN aes enl} at diner an pe std, 2oo | KTH: formelsan bing ‘ 3 AFA 5 I\\n\\n| a Taw] | A Lae? ] | an = 4h AES, a yn Sea a to ‘anee 233822 9.86 188 LSvE 32.4 et. 3222 241804 3.80 2e2 ALS SL.o 62 8325 268 513 | BAS 244 27,3 86.8 63 343% ABYRLE 7.04 496 28.2 2h4 ey BsHy Sore aay £93 ” £94 £842 Ly 3659 BaLOEY 9.38 tht B0.L 2D, % be 3ht2 SY2Z3Y4E 953 169 32,0 26 18> bo ares 843 HO 9.6% ur 32,9 8S\\n\\n+ 1 ! Av debellen Premade det ath aAdsY nm sage\\n\\nRy Can’) | Ris ony es] | A Tent) T= FlRyRe) Teaty |r; |\\n\\na7 Sbengen heumeks enligt Euler fall 2. Divas, Lereka Lo =3500 nm\\n\\nStinanormalkraf ben qs Py acometrin av P iad > tte 4o° = 24, 695— kW\\n\\noy TAZ] | Overt) TAP] |\\n\\nAe toh ellen _frema de det a\\n\\n2 43 4g 20,2 | 143 “a7 use 267 (480 4 688720 33,6 |ge4 BS 04F OD Wd | 9a 3aL94%O 394% | #8\\n\\nTillEbns spEan tea sy hombes wy dhagren pe sid. 800 RTH fnew\\n\\na cial med. caters. P80 mm dager.\\n\\nUppgift 5.8, AK1\\n\\n1558.85 1611.24\\n\\n1664.5 1718.63\\n\\n1829.48', metadata={'source': '/Users/hcaap/Desktop/Kod/Siemens/Trying_rag/hållflösningar.pdf'}),\n",
       "  289.2084655761719),\n",
       " (Document(page_content='; . Ea ee sh tf Fie = tet gz) > h(t-z)\\n\\nSammon eatin ing av GF) och dr) ger: 4 2 BE= Tab (Cowan) » ob Cho 2h (gard) = oabh (4-24 ge) »\\n\\n= Osbh (x2)\\n\\nFly tact for hajutg en qe te wed (8) och (6) son:\\n\\n4 pow Sheds. TNA FNS. wg) an nine ag tse : aaaee\\n\\nZz Ss yeh 08\\n\\n~w\\n\\nri\\n\\nTrrleqa eon cables JEnvikissamcand wid aeromplasticarina L L sh\\n\\nAR\\n\\na\\n\\nIe B A Reta - Gy =O = RatRy = A5 Rav ¥% , oe ’ L | s 7a BTR, ALtAL-Ag zo => Rs=2Q% Rae @% ———\\n\\na, Bao $. mband\\n\\n& gene vw den utbredda lasten woh etuble ra gn itt jomvikbssa\\n\\nli i w\\n\\nLéa en oui\\n\\nv\\n\\nL ys T\\n\\noss viletntag en ze AL? eutted!\\n\\n2 — Bop y% =o 3 Za, ob a Gb eit =0 =>\\n\\n= ds\\n\\n3 wl ~ £.@l)*) = QML => a> Qs Cz bal aL t\\n\\n: 3 -3 A Ra tT - Bel=o ae Te Ra ~ Gy = a5(%5)\\n\\nQ Be- Aa _ 2 wey SS = Dag a = a5 ° BAL L (Ba- 20%) aaa Derfvera (3) Meme {sr ett ithe extrem crdet pe oe , . “2 EO 2 BAL Ose pat) Conta) — te (4e-3) =Z ap ae S 7 w (Se- kar) ¢ ) T (sera 727 Yee ap le E\\n\\nSom rrgen Sauntng ev. (3) ooh C4). qaets', metadata={'source': '/Users/hcaap/Desktop/Kod/Siemens/Trying_rag/hållflösningar.pdf'}),\n",
       "  290.5326232910156),\n",
       " (Document(page_content='Skesvan lenkales enligh Geler(all Y, Slax khetsve er cgavi . 9 2 _ At, rek =U, ~ q TS ga%Z dc .fE_: ; a = | hate atta Mee ri UE x JET 242. Boban Gol ey. 5:95 of De Me B8bteand ite BSEL “s ; oak At, rele t 0. 6L= 2400 wn Cen}. srde 163) a } _ 2400 ~ 1 dss Le tegeg * EB ce Diagrns i figure Sap pe side see ger med CH) gyn BOD. c2) fed C2) aes lenmale leva fen By som! Pee OL Ar ws Wigey = 24,84 kV tt Bolen kuseks enligt Butler fall, B. Dives. &, vek = 0.8L = 1600 am ; Lironhelemom en tet aes avi De T (rye; ) | Tiebue Spanningar ted Crt Figur ana gid. 200 { KTHtS Prrmelsaviling * . \\\\ ra . qe if, vale . : ig an THN THR A Dae?) Uierk) = A Imes 4 94.L 83 “ta 138 Rl 408-2 48 fog t 73 3 FRO 57 aor) 130 4 940 es. 1456 e4- 5 865° 95 an% 122 6 90.9 90 4RBR SL o Bat 29 ah 864 ¢16 . oe ee = 6 ae iso a4 ~\\n\\nAv tebellen froma be det att Terk! < Oil for ducrenite, 6 ooh &.\\n\\nbtvavan KARAS enlfat Fulertell o,\\n\\nDevis, Ke, rele = aglea\\n\\n1600 wv,', metadata={'source': '/Users/hcaap/Desktop/Kod/Siemens/Trying_rag/hållflösningar.pdf'}),\n",
       "  290.95721435546875),\n",
       " (Document(page_content='aF teede. geUCe-L)4T 26 a> Tos AFU(K-L)~\\n\\na fi PA aN: QPL U(X-L) -htA =o =>\\n\\nin bey ; ho. mAs RFU (-L) x ~ die RELU CXL) = \\\\ Ms ~ dex +dFU(X-L)(e-L) * RF SF (eat) rt tye 4+ WELLL 7) i A brs ht Fae ar U(z-L) - BF (x-2L)v (x-at) +T so ss > Ts PP + grule-Lya at E (tab) U Cea) @s aFLu(e-b) + 2 (ean) (25 phe aL)U (x-2L) -Tx +H 20 > = ys kes akule)xs SF BE (X-2L)U(x-2b JX ~2ELULE- 1) ~ BE ry Xtal - o } Paes ar) ~S2\" ux aL) > » Ae - FFx + @F CX“ L)U(X-L) + a] (any (x-an)y- (ear es y > => H=- PFs 4 ar (x-L)u@-L)4 aa (xaLyU (tal) |x ~ £e8h] => “PAs bra t &F (x-L Jule-b)+ ar ewan)” U(x£-2L)\\n\\nAed (3) ges stledes: exw) =Aw)=s-2 Dey a aF (et) ole 1) + BF a RY ee -2L)\\n\\nTnteaqreti en (you e. faa ty . eqretion oxy pprepede gfnger yer:\\n\\nvu G&-2L)\\n\\nFORTS, PF UVF PAPPER.o. -', metadata={'source': '/Users/hcaap/Desktop/Kod/Siemens/Trying_rag/hållflösningar.pdf'}),\n",
       "  292.1535949707031),\n",
       " (Document(page_content=\"sker i eee aibningy\\n\\niro\\n\\n\\\\Em mut hbeuwl: rye kent :\\n\\n1 mabe gre al AR + BL 4PL-TL =o > N Tj\\n\\n72 * T= -T+Pe\\n\\nht Me & Wy\\n\\nOlgeruere at Even len ole bente cnltblref ben Ni (afore i ¢t), mkeryele 0 fee del @:\\n\\nbay Nv Tyee > ve EH BW: ni nl-a) so ee A ENL Ne tay ese -4 iene -o ar -N A BLA te £4 TH eT\\n\\nMed tt) ooh GAY Fr alte ‘gulthleraCher wtrryekbe i M oeh B.\\n\\nace den extra eluette nen,\\n\\ni -Th-P +7, FO ET = EB\\n\\nJemvilet Sor del @ Bes geKon ingpelekion, Infor deb phebenbe momentet Aide @ och shell upp\\n\\nid eho\\n\\n1 ri\\n\\nTg\\n\\nET ee 1 rh\\n\\nNL=Mg = N\\n\\nStall yu “IP jRauilts~\\n\\nER deform ebronsuriker\\n\\nry tbe ning | Cie (Oy + Os)\\n\\nSE_A oy % ) ‘ eet am@mtts £ es 264 acta aL PL Tp Blenenter fallen Bah & pe sida. 405° ger! 6, = Ae AL SAL tT G8I ~ zer , nL Negative tecken efterson uth Riniagen Oy> ALK cA Sleer neactiy rikebathg\\n\\n“y 66D 3 ~ ger y O42 AL ee Pe 7th , pe ber “Ger “ater “ser * Bez\\n\\nAL, BU ee AL, yet\\n\\nO, > s+ tt 4” 667 Ser ~ spo = : aan ” YET 6EL ' j pyr 24ET\\n\\n) ®s ~ 3ET Cleon solbalte)\", metadata={'source': '/Users/hcaap/Desktop/Kod/Siemens/Trying_rag/hållflösningar.pdf'}),\n",
       "  292.20208740234375)]"
      ]
     },
     "execution_count": 61,
     "metadata": {},
     "output_type": "execute_result"
    }
   ],
   "source": [
    "query = \"What are some formulas used in the finite element method?\"\n",
    "docs = db.similarity_search_with_score(query, k=20)\n",
    "docs"
   ]
  },
  {
   "cell_type": "code",
   "execution_count": 110,
   "metadata": {},
   "outputs": [
    {
     "name": "stdout",
     "output_type": "stream",
     "text": [
      "(Document(page_content='Midsommar planering\\n\\nmandag 11 oktober 2021 22:05\\n\\nVilka: Harald, Klara, Lisa, Love, Aron, Alice, Theo, Chris och sen Malte och Alma som komn senare pa fredagen\\n\\nFredag:\\n\\n12:30 Lunch (jag och Klara fixar) (8 pers) 14:30 K6ra nagon lite galen och rolig lek innan vi gar ner till byn 15:00 Ner till byn for midsommarfirande\\n\\no Glass/hang i byn 17:00 Borja med middag\\n\\no. Grilla nagot gott 18:30 Middag (10 pers)\\n\\no Nagon lek 19:30 Satt igang bastu 20:30 Vattenlekar om vadret tillater (typ ring, vattenskidor, wakeboard, osv). Sedan fa man basta efterat. Blir lite rotation mellan bastu och vattenlekar. Efter det ar det fri hopp och lek. Eventuellt spela nagot spel.\\n\\nLordag\\n\\n09:30 Frukost (10 personer) 10:30 Vi hittar pa nagot skoj o Aker ut till en 6 o Testa pa att segla (triss eller C55:a) 13 Lunch (eventuellt matsack) 15:00 Klara aker 18:00 Middag ute och sen drinkar i byn (om/fér de som tankte stanna till sondag)\\n\\nSéndag\\n\\nAterhamtning\\n\\nPacklista\\n\\nBadklader Midsommar klader Regnjacka Handduk', metadata={'source': '/Users/hcaap/Desktop/Kod/Siemens/Trying_rag/Midsommar planering .pdf'}), -91.31410877219511)\n"
     ]
    }
   ],
   "source": [
    "#searching in the database for midsommar\n",
    "\n",
    "\n",
    "print(db.max_marginal_relevance_search(query=\"Vad är planen för midsommar\"))\n",
    "\n",
    "print(db.similarity_search_with_relevance_scores(query=\"Vad är planen för midsommar\")[0])"
   ]
  },
  {
   "cell_type": "code",
   "execution_count": 112,
   "metadata": {},
   "outputs": [
    {
     "name": "stdout",
     "output_type": "stream",
     "text": [
      "(Document(page_content='Slutligen, for att se vilka kommandon ett skript utfor kan du skriva:\\n\\n174 BILAGA A. UNIX-TERMINALEN\\n\\nsh -x t\\n\\nMed det avslutar denna korta introduktion till UNIX-terminalen.', metadata={'source': '/Users/hcaap/Desktop/Kod/Siemens/Trying_rag/bilaga-A.pdf'}), -157.96700430434808)\n"
     ]
    },
    {
     "name": "stderr",
     "output_type": "stream",
     "text": [
      "/Users/hcaap/anaconda3/lib/python3.11/site-packages/langchain_core/vectorstores.py:379: UserWarning: Relevance scores must be between 0 and 1, got [(Document(page_content='Slutligen, for att se vilka kommandon ett skript utfor kan du skriva:\\n\\n174 BILAGA A. UNIX-TERMINALEN\\n\\nsh -x t\\n\\nMed det avslutar denna korta introduktion till UNIX-terminalen.', metadata={'source': '/Users/hcaap/Desktop/Kod/Siemens/Trying_rag/bilaga-A.pdf'}), -157.96700430434808), (Document(page_content='do echo testing $x y=$(basename $x .in) scala graph $x > output if diff output $y.correct then echo test failed for $x exit 1 fi done', metadata={'source': '/Users/hcaap/Desktop/Kod/Siemens/Trying_rag/bilaga-A.pdf'}), -166.69219228380643), (Document(page_content='‘For ett vara mer exakt, alla program returnerar ett heltal till foraldrarprogrammet (normalt det som startade barnet) och Bash ar ofta foraldern men vilket program som helst kan starta nya program och kolla returvardet.\\n\\nA.8. ENKEL SHELL PROGRAMMERING 173\\n\\nDa kommer diff att skriva ut skillnaden, s& kortfattat som mdjligt, pa de tva filerna. Om diff inte skriver ut nagot ar de identiska. Kommandot echo skriver helt enkelt ut sina argument och det kan anvandas sa har:\\n\\nscalac graph.scala & scala graph > output && diff output correct & echo PASS\\n\\nGenom att placera && pa slutet av varje rad fortsatter Bash pa nasta rad. Om du lagger ovanstaende kommandon i en fil, t.ex med namnet t kan du skriva:\\n\\nsh t\\n\\nDenna fil t ar ett exempel pa ett shellprogram, eller skript. Antag nu att du har flera tusen testfall som par av indata och korrekt utdata, namngivna som testname.in och testname. correct. Du kan anvanda en for-loop for att utfora alla tester:\\n\\nfor x in *.in', metadata={'source': '/Users/hcaap/Desktop/Kod/Siemens/Trying_rag/bilaga-A.pdf'}), -172.79531489842114), (Document(page_content='Alla program returnerar ett heltal till Bash! och det finns en konvention som sager att returvardet noll betyder att ett program lyckades utan fel och ett returvarde skiljt fran noll indikerar nagon form av fel. Nar ditt program anropar exit(@) eller returnerar ett tal fran main metoden, ar det detta tal som anvands av Bash. I normala fall ignorerar Bash returvardet men i kommandot ovan kors scala graph endast om scalac returnerade noll.\\n\\nAntag att du vill testa om utdata fran ditt program 4r korrekt. Det kan du gora genom att ha en fil, t.ex. correct och spara ditt programs utdata i en fil output. Kommandot diff jamfér tva filer och om de Ar identiska returnerar det noll. Skapa forst filen med korrekt utdata och skriv sedan:\\n\\nscalac graph.scala && scala graph > output && diff output correct', metadata={'source': '/Users/hcaap/Desktop/Kod/Siemens/Trying_rag/bilaga-A.pdf'}), -177.5252136153009)]\n",
      "  warnings.warn(\n"
     ]
    }
   ],
   "source": [
    "#searchng in the database for the unix terminal \n",
    "\n",
    "#print(db.max_marginal_relevance_search(query=\"How does a UNIX terminal work?\"))\n",
    "\n",
    "print(db.similarity_search_with_relevance_scores(query=\"How does a UNIX terminal work?\")[0])"
   ]
  },
  {
   "cell_type": "code",
   "execution_count": 113,
   "metadata": {},
   "outputs": [],
   "source": [
    "retriever = db.as_retriever()"
   ]
  },
  {
   "cell_type": "code",
   "execution_count": 114,
   "metadata": {},
   "outputs": [
    {
     "data": {
      "text/plain": [
       "[Document(page_content='Slutligen, for att se vilka kommandon ett skript utfor kan du skriva:\\n\\n174 BILAGA A. UNIX-TERMINALEN\\n\\nsh -x t\\n\\nMed det avslutar denna korta introduktion till UNIX-terminalen.', metadata={'source': '/Users/hcaap/Desktop/Kod/Siemens/Trying_rag/bilaga-A.pdf'}),\n",
       " Document(page_content='do echo testing $x y=$(basename $x .in) scala graph $x > output if diff output $y.correct then echo test failed for $x exit 1 fi done', metadata={'source': '/Users/hcaap/Desktop/Kod/Siemens/Trying_rag/bilaga-A.pdf'}),\n",
       " Document(page_content='‘For ett vara mer exakt, alla program returnerar ett heltal till foraldrarprogrammet (normalt det som startade barnet) och Bash ar ofta foraldern men vilket program som helst kan starta nya program och kolla returvardet.\\n\\nA.8. ENKEL SHELL PROGRAMMERING 173\\n\\nDa kommer diff att skriva ut skillnaden, s& kortfattat som mdjligt, pa de tva filerna. Om diff inte skriver ut nagot ar de identiska. Kommandot echo skriver helt enkelt ut sina argument och det kan anvandas sa har:\\n\\nscalac graph.scala & scala graph > output && diff output correct & echo PASS\\n\\nGenom att placera && pa slutet av varje rad fortsatter Bash pa nasta rad. Om du lagger ovanstaende kommandon i en fil, t.ex med namnet t kan du skriva:\\n\\nsh t\\n\\nDenna fil t ar ett exempel pa ett shellprogram, eller skript. Antag nu att du har flera tusen testfall som par av indata och korrekt utdata, namngivna som testname.in och testname. correct. Du kan anvanda en for-loop for att utfora alla tester:\\n\\nfor x in *.in', metadata={'source': '/Users/hcaap/Desktop/Kod/Siemens/Trying_rag/bilaga-A.pdf'}),\n",
       " Document(page_content='Alla program returnerar ett heltal till Bash! och det finns en konvention som sager att returvardet noll betyder att ett program lyckades utan fel och ett returvarde skiljt fran noll indikerar nagon form av fel. Nar ditt program anropar exit(@) eller returnerar ett tal fran main metoden, ar det detta tal som anvands av Bash. I normala fall ignorerar Bash returvardet men i kommandot ovan kors scala graph endast om scalac returnerade noll.\\n\\nAntag att du vill testa om utdata fran ditt program 4r korrekt. Det kan du gora genom att ha en fil, t.ex. correct och spara ditt programs utdata i en fil output. Kommandot diff jamfér tva filer och om de Ar identiska returnerar det noll. Skapa forst filen med korrekt utdata och skriv sedan:\\n\\nscalac graph.scala && scala graph > output && diff output correct', metadata={'source': '/Users/hcaap/Desktop/Kod/Siemens/Trying_rag/bilaga-A.pdf'})]"
      ]
     },
     "execution_count": 114,
     "metadata": {},
     "output_type": "execute_result"
    }
   ],
   "source": [
    "retriever = db.as_retriever(k=4)\n",
    "docs = retriever.invoke(\"How does a UNIX terminal work?\")\n",
    "docs\n",
    "\n"
   ]
  },
  {
   "cell_type": "code",
   "execution_count": 115,
   "metadata": {},
   "outputs": [
    {
     "name": "stdout",
     "output_type": "stream",
     "text": [
      "A UNIX terminal! According to the provided documents, here's a brief introduction and some basic usage:\n",
      "\n",
      "**Introduction**\n",
      "\n",
      "The UNIX terminal is a command-line interface where you can interact with your computer using commands. To start, type `sh -x t` in the terminal to run a shell script (more on this later).\n",
      "\n",
      "**Basic Commands**\n",
      "\n",
      "Here are some essential commands to get you started:\n",
      "\n",
      "1. **Echo**: prints its arguments to the console. Example: `echo testing $x y=$(basename $x .in) scala graph $x > output`\n",
      "2. **Diff**: compares two files and shows any differences between them. Example: `diff output $y.correct`\n",
      "\n",
      "**Shell Scripting**\n",
      "\n",
      "A shell script is a file containing a series of commands that can be executed by the UNIX terminal. To run a shell script, save it to a file (e.g., `t`) and then type `sh t` in the terminal.\n",
      "\n",
      "**Looping Through Files**\n",
      "\n",
      "To automate tasks for multiple files, you can use a loop like this:\n",
      "```bash\n",
      "for x in *.in\n",
      "```\n",
      "This will iterate over all files with the `.in` extension in the current directory.\n",
      "\n",
      "**Testing Your Program**\n",
      "\n",
      "When testing your program, remember that all programs return an integer to the parent program (usually the one that started it). Bash is often the parent program. If your program returns a non-zero value, it indicates some form of error.\n",
      "\n",
      "To test if your program's output is correct, you can use the `diff` command:\n",
      "```bash\n",
      "scalac graph.scala && scala graph > output && diff output correct\n",
      "```\n",
      "This will compare the output file (`output`) with the expected correct output file (`correct`). If they are identical, `diff` will not print anything. If there's a difference, it will show you the results.\n",
      "\n",
      "**Return Values**\n",
      "\n",
      "In UNIX, programs usually return an integer value to indicate success or failure. A return value of 0 typically indicates success, while any non-zero value indicates some form of error.\n",
      "\n",
      "I hope this brief introduction and basic usage guide helps you get started with using a UNIX terminal!\n"
     ]
    }
   ],
   "source": [
    "import ollama\n",
    "\n",
    "prompt = \"How do I use a UNIX terminal?\"\n",
    "\n",
    "\n",
    "output = ollama.generate(\n",
    "  model=\"llama3\",\n",
    "  prompt=f\"Using this data: {docs}. Respond to this prompt: {prompt}\"\n",
    ")\n",
    "\n",
    "print(output['response'])"
   ]
  },
  {
   "cell_type": "code",
   "execution_count": 34,
   "metadata": {},
   "outputs": [],
   "source": [
    "from langchain.chains.combine_documents import create_stuff_documents_chain\n",
    "from langchain_core.prompts import ChatPromptTemplate, MessagesPlaceholder\n",
    "\n",
    "SYSTEM_TEMPLATE = \"\"\"\n",
    "Answer the user's questions based on the below context. \n",
    "If the context doesn't contain any relevant information to the question, don't make something up and just say \"I don't know\":\n",
    "\n",
    "<context>\n",
    "{context}\n",
    "</context>\n",
    "\"\"\"\n",
    "\n",
    "from langchain_community.llms import Ollama\n",
    "\n",
    "llm = Ollama(model=\"llama3\")\n",
    "\n",
    "\n",
    "question_answering_prompt = ChatPromptTemplate.from_messages(\n",
    "    [\n",
    "        (\n",
    "            \"system\",\n",
    "            SYSTEM_TEMPLATE,\n",
    "        ),\n",
    "        MessagesPlaceholder(variable_name=\"messages\"),\n",
    "    ]\n",
    ")\n",
    "\n",
    "document_chain = create_stuff_documents_chain(llm, question_answering_prompt)"
   ]
  },
  {
   "cell_type": "code",
   "execution_count": 38,
   "metadata": {},
   "outputs": [
    {
     "data": {
      "text/plain": [
       "'According to the context, some key skills you need to be an innovative entrepreneur include:\\n\\n1. Ability to learn concepts through case studies\\n2. Mastering theories like disruptive innovation\\n3. Being able to accept and act on feedback\\n4. And possibly others (the list is not exhaustive)\\n\\nNote that these skills can be learned and practiced, making entrepreneurship a feasible career path for many individuals.'"
      ]
     },
     "execution_count": 38,
     "metadata": {},
     "output_type": "execute_result"
    }
   ],
   "source": [
    "from langchain_core.messages import HumanMessage\n",
    "\n",
    "document_chain.invoke(\n",
    "    {\n",
    "        \"context\": docs,\n",
    "        \"messages\": [\n",
    "            HumanMessage(content=\"What are som key things to become and entrepreneur?\")\n",
    "        ],\n",
    "    }\n",
    ")"
   ]
  }
 ],
 "metadata": {
  "kernelspec": {
   "display_name": "base",
   "language": "python",
   "name": "python3"
  },
  "language_info": {
   "codemirror_mode": {
    "name": "ipython",
    "version": 3
   },
   "file_extension": ".py",
   "mimetype": "text/x-python",
   "name": "python",
   "nbconvert_exporter": "python",
   "pygments_lexer": "ipython3",
   "version": "3.11.5"
  }
 },
 "nbformat": 4,
 "nbformat_minor": 2
}
