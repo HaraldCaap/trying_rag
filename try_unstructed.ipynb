{
 "cells": [
  {
   "cell_type": "code",
   "execution_count": 1,
   "metadata": {},
   "outputs": [],
   "source": [
    "from langchain_community.document_loaders import UnstructuredPDFLoader\n",
    "\n",
    "file_path = (\n",
    "    \"/Users/hcaap/Desktop/Kod/Siemens/Trying_rag/hållflösningar.pdf\"\n",
    ")\n",
    "\n",
    "loader = UnstructuredPDFLoader(file_path)\n",
    "data = loader.load()"
   ]
  },
  {
   "cell_type": "code",
   "execution_count": 3,
   "metadata": {},
   "outputs": [],
   "source": [
    "from langchain_community.document_loaders import TextLoader\n",
    "from langchain_text_splitters import CharacterTextSplitter\n",
    "\n",
    "# Load the document, split it into chunks, embed each chunk and load it into the vector store.\n",
    "text_splitter = CharacterTextSplitter(chunk_size=1000, chunk_overlap=0)\n",
    "documents = text_splitter.split_documents(data)"
   ]
  },
  {
   "cell_type": "code",
   "execution_count": 18,
   "metadata": {},
   "outputs": [],
   "source": [
    "from langchain_chroma import Chroma\n",
    "from langchain_community.embeddings import OllamaEmbeddings\n",
    "\n",
    "ollama_emb = OllamaEmbeddings(\n",
    "    model=\"mxbai-embed-large\",\n",
    ")\n",
    "\n",
    "db = Chroma.from_documents(documents, ollama_emb)"
   ]
  },
  {
   "cell_type": "code",
   "execution_count": 29,
   "metadata": {},
   "outputs": [
    {
     "data": {
      "text/plain": [
       "[(Document(page_content='For instance, the theory of disruptive innovation, another concept coined by Christensen and discussed in Disruptive Strategy, is the process by which a smaller company—usually with fewer resources—moves upmarket and challenges larger, established businesses.\\n\\nBy mastering theories like this one, you can help your organization strategize how to disrupt incumbent companies or prepare for emerging competitors.\\n\\nAsking yourself the questions in this section can shed light on whether you want to start a business. If you’ve decided that you’re ready to become an entrepreneur, there are certain skills you need to start your journey on the right path. Those are covered next.\\n\\nDeciding to Pursue Entrepreneurship 14\\n\\nSkills You Need to Be an Innovative Entrepreneur\\n\\nUnlike personality traits and demographic details, entrepreneurship and innovation skills can be learned and practiced. As you embark on your entrepreneurial journey, focus your efforts on developing these seven essential skills.', metadata={'source': '/Users/hcaap/Desktop/Kod/Siemens/Trying_rag/so-you-want-to-be-an-entrepreneur.pdf'}),\n",
       "  151.8767547607422),\n",
       " (Document(page_content='With curiosity comes the need for structured experimentation. As new opportunities arise, an entrepreneur must conduct market research and run tests to determine whether they’re worth pursuing.\\n\\nCharacteristics of Successful Entrepreneurs\\n\\n¢O> ENTREPRENEURIAL LESSON\\n\\nSavor Surprises\\n\\nIn Entrepreneurship Essentials, Scott Cook, co-founder and chairman of software company Intuit, highlights the power of structured experimentation when guiding your new venture.\\n\\nCook explains that experimentation enabled his company to capitalize on an opportunity when it discovered many customers were using its Quicken software for business purposes instead of personal finance, for which it was originally intended.\\n\\n“There’s a giant market of businesses who need the kind of thing we built, but we just never built it for business,” Cook says. “That’s why we run experiments and run them early: So we can get those surprises and see the things you only can see when you run an experiment to learn.”', metadata={'source': '/Users/hcaap/Desktop/Kod/Siemens/Trying_rag/so-you-want-to-be-an-entrepreneur.pdf'}),\n",
       "  153.16078186035156),\n",
       " (Document(page_content='Many ascribe to the idea that innovation goes hand-in-hand with entrepreneurship. This is often true—some of the most successful startups have taken existing products or services and drastically improved them to meet changing market needs. Innovation is a characteristic some, but not all, entrepreneurs possess. Fortunately, it’s one that can be cultivated.\\n\\n11. Long-Term Focus\\n\\nMost people think of entrepreneurship as the process of starting a business. While the early stages of launching a venture are critical to its success, the process doesn’t end once it’s operational. In Entrepreneurship Essentials, it’s stated that “it’s easy to start a business, but hard to grow a sustainable and substantial one. Some of the greatest opportunities in history were discovered well after a venture launched.”\\n\\nEntrepreneurship is a long-term endeavor, and entrepreneurs must focus on the process from beginning to end to achieve long-term success.', metadata={'source': '/Users/hcaap/Desktop/Kod/Siemens/Trying_rag/so-you-want-to-be-an-entrepreneur.pdf'}),\n",
       "  155.94869995117188),\n",
       " (Document(page_content=\"While there are many ways to acquire and hone these skills, one of the most effective means of doing so is by taking an entrepreneurship or innovation course. In the next section, you'll learn about factors to keep in mind when exploring your options.\\n\\nSkills You Need to Be an Innovative Entrepreneur 22\\n\\nHow to Find the Right Entrepreneurship or Innovation Course for You\\n\\nFurthering your education is an investment in yourself and your business, so it’s critical to find a course that fits your needs. Here are five questions to consider when making your selection.\\n\\n1. Where Am I in My Career?\\n\\nHave you decided you’ve got what it takes to be an entrepreneur but haven’t thought of your business idea yet? Maybe you have a validated idea but aren’t sure how to make\\n\\nit a reality. Determining where you are in your entrepreneurial journey can help you decide what type of course to take.\", metadata={'source': '/Users/hcaap/Desktop/Kod/Siemens/Trying_rag/so-you-want-to-be-an-entrepreneur.pdf'}),\n",
       "  156.36940002441406)]"
      ]
     },
     "execution_count": 29,
     "metadata": {},
     "output_type": "execute_result"
    }
   ],
   "source": [
    "query = \"What did the author say about the importance of innovation in the business world?\"\n",
    "docs = db.similarity_search_with_score(query, k=4)\n",
    "docs"
   ]
  },
  {
   "cell_type": "code",
   "execution_count": 26,
   "metadata": {},
   "outputs": [],
   "source": [
    "retriever = db.as_retriever()"
   ]
  },
  {
   "cell_type": "code",
   "execution_count": 37,
   "metadata": {},
   "outputs": [],
   "source": [
    "retriever = db.as_retriever(k=4)\n",
    "docs = retriever.invoke(\"what are they key concepts for innovation?\")\n",
    "\n"
   ]
  },
  {
   "cell_type": "code",
   "execution_count": 30,
   "metadata": {},
   "outputs": [
    {
     "name": "stdout",
     "output_type": "stream",
     "text": [
      "Based on the provided data, some key concepts for innovation in business include:\n",
      "\n",
      "1. **Disruptive Innovation**: The process by which a smaller company with fewer resources can move upmarket and challenge larger, established businesses.\n",
      "2. **Structured Experimentation**: Conducting market research and running tests to determine whether new opportunities are worth pursuing.\n",
      "3. **Long-Term Focus**: Entrepreneurship is a long-term endeavor that requires focusing on the process from beginning to end to achieve long-term success.\n",
      "4. **Innovation Culture**: Embracing innovation as a characteristic of some entrepreneurs, which can be cultivated and developed over time.\n",
      "5. **Experimentation and Learning**: Running experiments early in the entrepreneurial journey to learn and adapt to changing market needs.\n",
      "6. **Continuous Improvement**: Fostering an environment that encourages continuous improvement, iteration, and learning.\n",
      "\n",
      "These concepts suggest that innovation in business requires a combination of strategic thinking, experimentation, and a long-term perspective. They also highlight the importance of cultivating an innovative culture within an organization, which can be achieved through structured experimentation, continuous improvement, and a focus on learning from failures.\n"
     ]
    }
   ],
   "source": [
    "import ollama\n",
    "\n",
    "prompt = \"What are key concepts for innovation in business?\"\n",
    "\n",
    "\n",
    "output = ollama.generate(\n",
    "  model=\"llama3\",\n",
    "  prompt=f\"Using this data: {docs}. Respond to this prompt: {prompt}\"\n",
    ")\n",
    "\n",
    "print(output['response'])"
   ]
  },
  {
   "cell_type": "code",
   "execution_count": 34,
   "metadata": {},
   "outputs": [],
   "source": [
    "from langchain.chains.combine_documents import create_stuff_documents_chain\n",
    "from langchain_core.prompts import ChatPromptTemplate, MessagesPlaceholder\n",
    "\n",
    "SYSTEM_TEMPLATE = \"\"\"\n",
    "Answer the user's questions based on the below context. \n",
    "If the context doesn't contain any relevant information to the question, don't make something up and just say \"I don't know\":\n",
    "\n",
    "<context>\n",
    "{context}\n",
    "</context>\n",
    "\"\"\"\n",
    "\n",
    "from langchain_community.llms import Ollama\n",
    "\n",
    "llm = Ollama(model=\"llama3\")\n",
    "\n",
    "\n",
    "question_answering_prompt = ChatPromptTemplate.from_messages(\n",
    "    [\n",
    "        (\n",
    "            \"system\",\n",
    "            SYSTEM_TEMPLATE,\n",
    "        ),\n",
    "        MessagesPlaceholder(variable_name=\"messages\"),\n",
    "    ]\n",
    ")\n",
    "\n",
    "document_chain = create_stuff_documents_chain(llm, question_answering_prompt)"
   ]
  },
  {
   "cell_type": "code",
   "execution_count": 38,
   "metadata": {},
   "outputs": [
    {
     "data": {
      "text/plain": [
       "'According to the context, some key skills you need to be an innovative entrepreneur include:\\n\\n1. Ability to learn concepts through case studies\\n2. Mastering theories like disruptive innovation\\n3. Being able to accept and act on feedback\\n4. And possibly others (the list is not exhaustive)\\n\\nNote that these skills can be learned and practiced, making entrepreneurship a feasible career path for many individuals.'"
      ]
     },
     "execution_count": 38,
     "metadata": {},
     "output_type": "execute_result"
    }
   ],
   "source": [
    "from langchain_core.messages import HumanMessage\n",
    "\n",
    "document_chain.invoke(\n",
    "    {\n",
    "        \"context\": docs,\n",
    "        \"messages\": [\n",
    "            HumanMessage(content=\"What are som key things to become and entrepreneur?\")\n",
    "        ],\n",
    "    }\n",
    ")"
   ]
  }
 ],
 "metadata": {
  "kernelspec": {
   "display_name": "base",
   "language": "python",
   "name": "python3"
  },
  "language_info": {
   "codemirror_mode": {
    "name": "ipython",
    "version": 3
   },
   "file_extension": ".py",
   "mimetype": "text/x-python",
   "name": "python",
   "nbconvert_exporter": "python",
   "pygments_lexer": "ipython3",
   "version": "3.11.5"
  }
 },
 "nbformat": 4,
 "nbformat_minor": 2
}
